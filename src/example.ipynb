{
 "cells": [
  {
   "cell_type": "code",
   "execution_count": 13,
   "metadata": {},
   "outputs": [],
   "source": []
  },
  {
   "cell_type": "code",
   "execution_count": 4,
   "metadata": {},
   "outputs": [],
   "source": [
    "import os\n",
    "from pyspark.sql import SparkSession"
   ]
  },
  {
   "cell_type": "markdown",
   "metadata": {},
   "source": []
  },
  {
   "cell_type": "code",
   "execution_count": 3,
   "metadata": {},
   "outputs": [
    {
     "name": "stderr",
     "output_type": "stream",
     "text": [
      "23/12/23 19:05:17 WARN Utils: Your hostname, kavarakis-hq resolves to a loopback address: 127.0.1.1; using 192.168.0.19 instead (on interface wlp0s20f3)\n",
      "23/12/23 19:05:17 WARN Utils: Set SPARK_LOCAL_IP if you need to bind to another address\n",
      "Setting default log level to \"WARN\".\n",
      "To adjust logging level use sc.setLogLevel(newLevel). For SparkR, use setLogLevel(newLevel).\n",
      "23/12/23 19:05:18 WARN NativeCodeLoader: Unable to load native-hadoop library for your platform... using builtin-java classes where applicable\n",
      "23/12/23 19:05:19 WARN Utils: Service 'SparkUI' could not bind on port 4040. Attempting port 4041.\n",
      "Traceback (most recent call last):                                              \n",
      "  File \"/home/kavarakis/projects/bdt-link-prediction/src/./scripts/create_spark_data.py\", line 183, in <module>\n",
      "    df.write.csv(output_path + input_path.split(\"/\")[-1])\n",
      "  File \"/home/kavarakis/anaconda3/envs/bdt/lib/python3.12/site-packages/pyspark/sql/readwriter.py\", line 1864, in csv\n",
      "    self._jwrite.csv(path)\n",
      "  File \"/home/kavarakis/anaconda3/envs/bdt/lib/python3.12/site-packages/py4j/java_gateway.py\", line 1322, in __call__\n",
      "    return_value = get_return_value(\n",
      "                   ^^^^^^^^^^^^^^^^^\n",
      "  File \"/home/kavarakis/anaconda3/envs/bdt/lib/python3.12/site-packages/pyspark/errors/exceptions/captured.py\", line 185, in deco\n",
      "    raise converted from None\n",
      "pyspark.errors.exceptions.captured.AnalysisException: [PATH_ALREADY_EXISTS] Path file:/home/kavarakis/projects/bdt-link-prediction/dataset/output/Columbia2 already exists. Set mode as \"overwrite\" to overwrite the existing path.\n"
     ]
    },
    {
     "data": {
      "text/plain": [
       "256"
      ]
     },
     "execution_count": 3,
     "metadata": {},
     "output_type": "execute_result"
    }
   ],
   "source": [
    "script_path = './scripts/create_spark_data.py'\n",
    "data_source = '../dataset/data/Columbia2/Columbia2'\n",
    "out_path = '../dataset/output/'\n",
    "os.system(f'python {script_path} --data_source {data_source} --data_output {out_path}')"
   ]
  },
  {
   "cell_type": "code",
   "execution_count": 5,
   "metadata": {},
   "outputs": [
    {
     "name": "stderr",
     "output_type": "stream",
     "text": [
      "23/12/23 19:05:57 WARN Utils: Your hostname, kavarakis-hq resolves to a loopback address: 127.0.1.1; using 192.168.0.19 instead (on interface wlp0s20f3)\n",
      "23/12/23 19:05:57 WARN Utils: Set SPARK_LOCAL_IP if you need to bind to another address\n",
      "Setting default log level to \"WARN\".\n",
      "To adjust logging level use sc.setLogLevel(newLevel). For SparkR, use setLogLevel(newLevel).\n",
      "23/12/23 19:05:58 WARN NativeCodeLoader: Unable to load native-hadoop library for your platform... using builtin-java classes where applicable\n",
      "23/12/23 19:05:58 WARN Utils: Service 'SparkUI' could not bind on port 4040. Attempting port 4041.\n"
     ]
    }
   ],
   "source": [
    "\n",
    "spark = SparkSession.builder.appName(\"bdt-link-prediction-ipynb\").getOrCreate()\n",
    "    "
   ]
  },
  {
   "cell_type": "code",
   "execution_count": null,
   "metadata": {},
   "outputs": [],
   "source": [
    "spark.read.csv('')"
   ]
  }
 ],
 "metadata": {
  "kernelspec": {
   "display_name": "bdt",
   "language": "python",
   "name": "python3"
  },
  "language_info": {
   "codemirror_mode": {
    "name": "ipython",
    "version": 3
   },
   "file_extension": ".py",
   "mimetype": "text/x-python",
   "name": "python",
   "nbconvert_exporter": "python",
   "pygments_lexer": "ipython3",
   "version": "3.12.0"
  }
 },
 "nbformat": 4,
 "nbformat_minor": 2
}
